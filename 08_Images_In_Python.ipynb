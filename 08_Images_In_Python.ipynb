{
 "cells": [
  {
   "cell_type": "markdown",
   "metadata": {},
   "source": [
    "# Multidimentional data - Matrices and Images"
   ]
  },
  {
   "cell_type": "code",
   "execution_count": null,
   "metadata": {
    "collapsed": false
   },
   "outputs": [],
   "source": [
    "%matplotlib inline\n",
    "\n",
    "import numpy as np\n",
    "import matplotlib.pyplot as plt\n",
    "\n",
    "from scipy import linalg"
   ]
  },
  {
   "cell_type": "code",
   "execution_count": null,
   "metadata": {
    "collapsed": true
   },
   "outputs": [],
   "source": [
    "plt.style.use('ggplot')\n",
    "plt.rc('axes', grid=False)   # turn off the background grid for images"
   ]
  },
  {
   "cell_type": "markdown",
   "metadata": {},
   "source": [
    "Let us work with the matrix:\n",
    "$\n",
    "\\left[\n",
    "\\begin{array}{cc}\n",
    "1 & 2 \\\\\n",
    "1 & 1\n",
    "\\end{array}\n",
    "\\right]\n",
    "$"
   ]
  },
  {
   "cell_type": "code",
   "execution_count": null,
   "metadata": {
    "collapsed": false
   },
   "outputs": [],
   "source": [
    "my_matrix = np.array([[1,2],[1,1]])\n",
    "\n",
    "print(my_matrix.shape)"
   ]
  },
  {
   "cell_type": "code",
   "execution_count": null,
   "metadata": {
    "collapsed": false
   },
   "outputs": [],
   "source": [
    "print(my_matrix)"
   ]
  },
  {
   "cell_type": "code",
   "execution_count": null,
   "metadata": {
    "collapsed": false
   },
   "outputs": [],
   "source": [
    "my_matrix_transposed = np.transpose(my_matrix)\n",
    "\n",
    "print(my_matrix_transposed)"
   ]
  },
  {
   "cell_type": "code",
   "execution_count": null,
   "metadata": {
    "collapsed": false
   },
   "outputs": [],
   "source": [
    "my_matrix_inverse = linalg.inv(my_matrix)\n",
    "\n",
    "print(my_matrix_inverse)"
   ]
  },
  {
   "cell_type": "markdown",
   "metadata": {},
   "source": [
    "### numpy matrix multiply uses the `dot()` function:"
   ]
  },
  {
   "cell_type": "code",
   "execution_count": null,
   "metadata": {
    "collapsed": false
   },
   "outputs": [],
   "source": [
    "my_matrix_inverse.dot(my_matrix)"
   ]
  },
  {
   "cell_type": "markdown",
   "metadata": {},
   "source": [
    "### Caution the `*` will just multiply the matricies on an element-by-element basis:"
   ]
  },
  {
   "cell_type": "code",
   "execution_count": null,
   "metadata": {
    "collapsed": false
   },
   "outputs": [],
   "source": [
    "my_matrix_inverse * my_matrix_inverse"
   ]
  },
  {
   "cell_type": "markdown",
   "metadata": {},
   "source": [
    "### Solving system of linear equations"
   ]
  },
  {
   "cell_type": "markdown",
   "metadata": {},
   "source": [
    "$$\n",
    "\\begin{array}{c}\n",
    "x + 2y = 4 \\\\\n",
    "x + y = 3 \\\\\n",
    "\\end{array}\n",
    "\\hspace{2cm}\n",
    "\\left[\n",
    "\\begin{array}{cc}\n",
    "1 & 2 \\\\\n",
    "1 & 1 \\\\\n",
    "\\end{array}\n",
    "\\right]\n",
    "\\left[\n",
    "\\begin{array}{c}\n",
    "x\\\\\n",
    "y\n",
    "\\end{array}\n",
    "\\right]\n",
    "=\n",
    "\\left[\n",
    "\\begin{array}{c}\n",
    "4\\\\\n",
    "3\\\\ \n",
    "\\end{array}\n",
    "\\right]\n",
    "\\hspace{2cm}\n",
    "{\\bf A}x = {\\bf b}\n",
    "\\hspace{2cm}\n",
    "\\left[\n",
    "\\begin{array}{c}\n",
    "x\\\\\n",
    "y\n",
    "\\end{array}\n",
    "\\right]\n",
    "=\n",
    "\\left[\n",
    "\\begin{array}{cc}\n",
    "1 & 2 \\\\\n",
    "1 & 1 \\\\\n",
    "\\end{array}\n",
    "\\right]^{-1}\n",
    "\\left[\n",
    "\\begin{array}{c}\n",
    "4\\\\\n",
    "3\\\\ \n",
    "\\end{array}\n",
    "\\right]\n",
    "=\n",
    "\\left[\n",
    "\\begin{array}{c}\n",
    "2\\\\\n",
    "1\n",
    "\\end{array}\n",
    "\\right]\n",
    "$$"
   ]
  },
  {
   "cell_type": "code",
   "execution_count": null,
   "metadata": {
    "collapsed": false
   },
   "outputs": [],
   "source": [
    "A = np.array([[1,2],[1,1]])\n",
    "\n",
    "print(A)"
   ]
  },
  {
   "cell_type": "code",
   "execution_count": null,
   "metadata": {
    "collapsed": false
   },
   "outputs": [],
   "source": [
    "b = np.array([[4],[3]])\n",
    "\n",
    "print(b)"
   ]
  },
  {
   "cell_type": "code",
   "execution_count": null,
   "metadata": {
    "collapsed": false
   },
   "outputs": [],
   "source": [
    "# Solve by inverting A and then mulitply by b\n",
    "\n",
    "linalg.inv(A).dot(b) "
   ]
  },
  {
   "cell_type": "code",
   "execution_count": null,
   "metadata": {
    "collapsed": false
   },
   "outputs": [],
   "source": [
    "# Cleaner looking\n",
    "\n",
    "linalg.solve(A,b)"
   ]
  },
  {
   "cell_type": "markdown",
   "metadata": {},
   "source": [
    "### System of 3 equations"
   ]
  },
  {
   "cell_type": "markdown",
   "metadata": {},
   "source": [
    "$$\n",
    "\\begin{array}{c}\n",
    "x + 3y + 5z = 10 \\\\\n",
    "2x + 5y + z = 8 \\\\\n",
    "2x + 3y + 8z = 3 \\\\\n",
    "\\end{array}\n",
    "\\hspace{3cm}\n",
    "\\left[\n",
    "\\begin{array}{ccc}\n",
    "1 & 3 & 5 \\\\\n",
    "2 & 5 & 1 \\\\\n",
    "2 & 3 & 8 \n",
    "\\end{array}\n",
    "\\right]\n",
    "\\left[\n",
    "\\begin{array}{c}\n",
    "x\\\\\n",
    "y\\\\\n",
    "z \n",
    "\\end{array}\n",
    "\\right]\n",
    "=\n",
    "\\left[\n",
    "\\begin{array}{c}\n",
    "10\\\\\n",
    "8\\\\\n",
    "3 \n",
    "\\end{array}\n",
    "\\right]\n",
    "$$"
   ]
  },
  {
   "cell_type": "code",
   "execution_count": null,
   "metadata": {
    "collapsed": false
   },
   "outputs": [],
   "source": [
    "A = np.array([[1,3,5],[2,5,1],[2,3,8]])\n",
    "b = np.array([[10],[8],[3]])\n",
    "\n",
    "print(linalg.inv(A))\n",
    "\n",
    "print(linalg.solve(A,b))"
   ]
  },
  {
   "cell_type": "markdown",
   "metadata": {},
   "source": [
    "# Images are just 2-d arrays - `imshow` will display 2-d arrays as images"
   ]
  },
  {
   "cell_type": "code",
   "execution_count": null,
   "metadata": {
    "collapsed": false
   },
   "outputs": [],
   "source": [
    "print(A)\n",
    "\n",
    "plt.imshow(A, interpolation='nearest', cmap=plt.cm.Blues);"
   ]
  },
  {
   "cell_type": "markdown",
   "metadata": {},
   "source": [
    "### Read in some data"
   ]
  },
  {
   "cell_type": "code",
   "execution_count": null,
   "metadata": {
    "collapsed": true
   },
   "outputs": [],
   "source": [
    "test_image = np.load(\"./MyData/test_data.npy\")    # load in a saved numpy array"
   ]
  },
  {
   "cell_type": "code",
   "execution_count": null,
   "metadata": {
    "collapsed": false
   },
   "outputs": [],
   "source": [
    "test_image.ndim, test_image.shape, test_image.dtype"
   ]
  },
  {
   "cell_type": "code",
   "execution_count": null,
   "metadata": {
    "collapsed": false
   },
   "outputs": [],
   "source": [
    "print(\"The minimum value of the image is {0:.2f}\".format(test_image.min()))\n",
    "print(\"The maximum value of the image is {0:.2f}\".format(test_image.max()))\n",
    "print(\"The mean value of the image is {0:.2f}\".format(test_image.mean()))\n",
    "print(\"The standard deviation of the image is {0:.2f}\".format(test_image.std()))"
   ]
  },
  {
   "cell_type": "code",
   "execution_count": null,
   "metadata": {
    "collapsed": false
   },
   "outputs": [],
   "source": [
    "#flatten() collapses n-dimentional data into 1-d\n",
    "\n",
    "plt.hist(test_image.flatten(),bins=30);"
   ]
  },
  {
   "cell_type": "markdown",
   "metadata": {},
   "source": [
    "### Math on images applies to every value (pixel)"
   ]
  },
  {
   "cell_type": "code",
   "execution_count": null,
   "metadata": {
    "collapsed": false
   },
   "outputs": [],
   "source": [
    "another_test_image = test_image + 8\n",
    "\n",
    "print(\"The minimum value of the other image is {0:.2f}\".format(another_test_image.min()))\n",
    "print(\"The maximum value of the other image is {0:.2f}\".format(another_test_image.max()))\n",
    "print(\"The mean value of the other image is {0:.2f}\".format(another_test_image.mean()))\n",
    "print(\"The standard deviation of the other image is {0:.2f}\".format(another_test_image.std()))"
   ]
  },
  {
   "cell_type": "markdown",
   "metadata": {},
   "source": [
    "### Show the image represenation of `I` with a colorbar"
   ]
  },
  {
   "cell_type": "code",
   "execution_count": null,
   "metadata": {
    "collapsed": false
   },
   "outputs": [],
   "source": [
    "plt.imshow(test_image, cmap=plt.cm.gray)\n",
    "plt.colorbar();"
   ]
  },
  {
   "cell_type": "markdown",
   "metadata": {},
   "source": [
    "### Colormap reference: http://matplotlib.org/examples/color/colormaps_reference.html"
   ]
  },
  {
   "cell_type": "code",
   "execution_count": null,
   "metadata": {
    "collapsed": false
   },
   "outputs": [],
   "source": [
    "fig, ax = plt.subplots(1,5,sharey=True)\n",
    "\n",
    "fig.set_size_inches(12,6)\n",
    "\n",
    "fig.tight_layout()\n",
    "\n",
    "ax[0].imshow(test_image, cmap=plt.cm.viridis)\n",
    "ax[0].set_xlabel('viridis')\n",
    "\n",
    "ax[1].imshow(test_image, cmap=plt.cm.hot)\n",
    "ax[1].set_xlabel('hot')\n",
    "\n",
    "ax[2].imshow(test_image, cmap=plt.cm.magma)\n",
    "ax[2].set_xlabel('magma')\n",
    "\n",
    "ax[3].imshow(test_image, cmap=plt.cm.spectral)\n",
    "ax[3].set_xlabel('spectral')\n",
    "\n",
    "ax[4].imshow(test_image, cmap=plt.cm.gray)\n",
    "ax[4].set_xlabel('gray')"
   ]
  },
  {
   "cell_type": "markdown",
   "metadata": {},
   "source": [
    "## WARNING! Common image formats DO NOT preserve dynamic range of original data!!\n",
    "- Common image formats: jpg, gif, png, tiff\n",
    "- Common image formats will re-scale your data values to [0:1]\n",
    "- Common image formats are **NOT** suitable for scientific data!"
   ]
  },
  {
   "cell_type": "code",
   "execution_count": null,
   "metadata": {
    "collapsed": false
   },
   "outputs": [],
   "source": [
    "plt.imsave('Splash.png', test_image, cmap=plt.cm.gray)     # Write the array I to a PNG file\n",
    "\n",
    "my_png = plt.imread('Splash.png')                   # Read in the PNG file\n",
    "\n",
    "print(\"The original data has a min = {0:.2f} and a max = {1:.2f}\".format(test_image.min(), test_image.max()))\n",
    "\n",
    "print(\"The PNG file has a min = {0:.2f} and a max = {1:.2f}\".format(my_png.min(), my_png.max()))"
   ]
  },
  {
   "cell_type": "markdown",
   "metadata": {},
   "source": [
    "## Creating images from math"
   ]
  },
  {
   "cell_type": "code",
   "execution_count": null,
   "metadata": {
    "collapsed": false
   },
   "outputs": [],
   "source": [
    "X = np.linspace(-5, 5, 500)\n",
    "Y = np.linspace(-5, 5, 500)\n",
    "\n",
    "X, Y = np.meshgrid(X, Y)     # turns two 1-d arrays (X, Y) into one 2-d grid\n",
    "\n",
    "Z = np.sqrt(X**2+Y**2)+np.sin(X**2+Y**2)\n",
    "\n",
    "Z.min(), Z.max(), Z.mean()"
   ]
  },
  {
   "cell_type": "markdown",
   "metadata": {},
   "source": [
    "### Fancy Image Display"
   ]
  },
  {
   "cell_type": "code",
   "execution_count": null,
   "metadata": {
    "collapsed": false
   },
   "outputs": [],
   "source": [
    "from matplotlib.colors import LightSource\n",
    "\n",
    "ls = LightSource(azdeg=0,altdeg=40)\n",
    "shadedfig = ls.shade(Z,plt.cm.copper)\n",
    "\n",
    "fig, ax = plt.subplots(1,3)\n",
    "\n",
    "fig.set_size_inches(12,6)\n",
    "\n",
    "fig.tight_layout()\n",
    "\n",
    "ax[0].imshow(shadedfig)\n",
    "\n",
    "contlevels = [1,2,Z.mean()]\n",
    "\n",
    "ax[1].axis('equal')\n",
    "ax[1].contour(Z,contlevels)\n",
    "\n",
    "ax[2].imshow(shadedfig)\n",
    "ax[2].contour(Z,contlevels);"
   ]
  },
  {
   "cell_type": "markdown",
   "metadata": {},
   "source": [
    "### Reading in images (`imread`) - Common Formats"
   ]
  },
  {
   "cell_type": "code",
   "execution_count": null,
   "metadata": {
    "collapsed": false
   },
   "outputs": [],
   "source": [
    "my_doctor = plt.imread('./MyData/doctor5.png')\n",
    "\n",
    "print(\"The image my_doctor has a shape [height,width] of {0}\".format(my_doctor.shape))\n",
    "print(\"The image my_doctor is made up of data of type {0}\".format(my_doctor.dtype))\n",
    "print(\"The image my_doctor has a maximum value of {0}\".format(my_doctor.max()))\n",
    "print(\"The image my_doctor has a minimum value of {0}\".format(my_doctor.min()))"
   ]
  },
  {
   "cell_type": "code",
   "execution_count": null,
   "metadata": {
    "collapsed": false
   },
   "outputs": [],
   "source": [
    "plt.imshow(my_doctor,cmap=plt.cm.gray);"
   ]
  },
  {
   "cell_type": "markdown",
   "metadata": {},
   "source": [
    "## Images are just arrays that can be sliced. \n",
    "\n",
    "- ### For common image formats the origin is the upper left hand corner"
   ]
  },
  {
   "cell_type": "code",
   "execution_count": null,
   "metadata": {
    "collapsed": false
   },
   "outputs": [],
   "source": [
    "fig, ax = plt.subplots(1,4)\n",
    "fig.set_size_inches(12,6)\n",
    "\n",
    "fig.tight_layout()\n",
    "\n",
    "# You can show just slices of the image - Rememeber: The origin is the upper left corner\n",
    "\n",
    "ax[0].imshow(my_doctor, cmap=plt.cm.gray)\n",
    "ax[0].set_xlabel('Original')\n",
    "\n",
    "ax[1].imshow(my_doctor[0:300,0:100], cmap=plt.cm.gray)\n",
    "ax[1].set_xlabel('[0:300,0:100]')                 # 300 rows, 100 columns\n",
    "\n",
    "ax[2].imshow(my_doctor[:,0:100], cmap=plt.cm.gray)       # \":\" = whole range\n",
    "ax[2].set_xlabel('[:,0:100]')                     # all rows, 100 columns\n",
    "\n",
    "ax[3].imshow(my_doctor[:,::-1], cmap=plt.cm.gray);\n",
    "ax[3].set_xlabel('[:,::-1]')                      # reverse the columns"
   ]
  },
  {
   "cell_type": "code",
   "execution_count": null,
   "metadata": {
    "collapsed": false
   },
   "outputs": [],
   "source": [
    "fig, ax = plt.subplots(1,2)\n",
    "fig.set_size_inches(12,6)\n",
    "\n",
    "fig.tight_layout()\n",
    "\n",
    "CutLine = 300\n",
    "\n",
    "ax[0].imshow(my_doctor, cmap=plt.cm.gray)\n",
    "ax[0].hlines(CutLine, 0, 194, color='b', linewidth=3)\n",
    "\n",
    "ax[1].plot(my_doctor[CutLine,:], color='b', linewidth=3)\n",
    "ax[1].set_xlabel(\"X Value\")\n",
    "ax[1].set_ylabel(\"Pixel Value\")"
   ]
  },
  {
   "cell_type": "markdown",
   "metadata": {},
   "source": [
    "## Simple image manipulation"
   ]
  },
  {
   "cell_type": "code",
   "execution_count": null,
   "metadata": {
    "collapsed": false
   },
   "outputs": [],
   "source": [
    "from scipy import ndimage"
   ]
  },
  {
   "cell_type": "code",
   "execution_count": null,
   "metadata": {
    "collapsed": false
   },
   "outputs": [],
   "source": [
    "fig, ax = plt.subplots(1,5)\n",
    "fig.set_size_inches(14,6)\n",
    "\n",
    "fig.tight_layout()\n",
    "\n",
    "ax[0].imshow(my_doctor, cmap=plt.cm.gray)\n",
    "\n",
    "my_doctor_2 = ndimage.rotate(my_doctor,45,cval=0.75)               # cval is the value to set pixels outside of image\n",
    "ax[1].imshow(my_doctor_2, cmap=plt.cm.gray)                 # Rotate and reshape\n",
    "\n",
    "my_doctor_3 = ndimage.rotate(my_doctor,45,reshape=False,cval=0.75) # Rotate and do not reshape\n",
    "ax[2].imshow(my_doctor_3, cmap=plt.cm.gray)\n",
    "\n",
    "my_doctor_4 = ndimage.shift(my_doctor,(10,30),cval=0.75)           # Shift image      \n",
    "ax[3].imshow(my_doctor_4, cmap=plt.cm.gray)\n",
    "\n",
    "my_doctor_5 = ndimage.gaussian_filter(my_doctor,5)                # Blur image\n",
    "ax[4].imshow(my_doctor_5, cmap=plt.cm.gray);"
   ]
  },
  {
   "cell_type": "markdown",
   "metadata": {},
   "source": [
    "### `ndimage` can do much more: http://scipy-lectures.github.io/advanced/image_processing/"
   ]
  },
  {
   "cell_type": "markdown",
   "metadata": {},
   "source": [
    "---\n",
    "\n",
    "## FITS file (Flexible Image Transport System) - Standard Astro File Format\n",
    "- **FITS format preserves dynamic range of data**\n",
    "- FITS format can include lists, tables, images, and combunations of different types of data\n",
    "- FITS fiels consiste of at least two parts - A **Header** and **Data**"
   ]
  },
  {
   "cell_type": "code",
   "execution_count": null,
   "metadata": {
    "collapsed": false
   },
   "outputs": [],
   "source": [
    "import astropy.io.fits as fits"
   ]
  },
  {
   "cell_type": "code",
   "execution_count": null,
   "metadata": {
    "collapsed": false
   },
   "outputs": [],
   "source": [
    "my_image_file = \"./MyData/bsg01.fits\"\n",
    "\n",
    "image_data = fits.getdata(my_image_file)\n",
    "image_header = fits.getheader(my_image_file)"
   ]
  },
  {
   "cell_type": "code",
   "execution_count": null,
   "metadata": {
    "collapsed": false
   },
   "outputs": [],
   "source": [
    "image_header"
   ]
  },
  {
   "cell_type": "code",
   "execution_count": null,
   "metadata": {
    "collapsed": false
   },
   "outputs": [],
   "source": [
    "print(\"The image has a shape [height,width] of {0}\".format(image_data.shape))\n",
    "print(\"The image is made up of data of type {0}\".format(image_data.dtype))\n",
    "print(\"The image has a maximum value of {0}\".format(image_data.max()))\n",
    "print(\"The image has a minimum value of {0}\".format(image_data.min()))"
   ]
  },
  {
   "cell_type": "code",
   "execution_count": null,
   "metadata": {
    "collapsed": false
   },
   "outputs": [],
   "source": [
    "fig, ax = plt.subplots(1,2)\n",
    "\n",
    "fig.set_size_inches(12,6)\n",
    "\n",
    "fig.tight_layout()\n",
    "\n",
    "ax[0].imshow(image_data,cmap=plt.cm.gray)\n",
    "\n",
    "ax[1].hist(image_data.flatten(),bins=20);"
   ]
  },
  {
   "cell_type": "markdown",
   "metadata": {},
   "source": [
    "## You can use masks on images"
   ]
  },
  {
   "cell_type": "code",
   "execution_count": null,
   "metadata": {
    "collapsed": false
   },
   "outputs": [],
   "source": [
    "CopyData = np.copy(image_data)\n",
    "\n",
    "CutOff = 40\n",
    "\n",
    "mask = np.where(CopyData > CutOff)\n",
    "CopyData[mask] = 50                   # You can not just throw data away, you have to set it to something.\n",
    "\n",
    "fig, ax = plt.subplots(1,2)\n",
    "\n",
    "fig.set_size_inches(12,6)\n",
    "\n",
    "fig.tight_layout()\n",
    "\n",
    "ax[0].imshow(CopyData,cmap=plt.cm.gray)\n",
    "\n",
    "ax[1].hist(CopyData.flatten(),bins=20);"
   ]
  },
  {
   "cell_type": "markdown",
   "metadata": {},
   "source": [
    "## You can add and subtract images"
   ]
  },
  {
   "cell_type": "code",
   "execution_count": null,
   "metadata": {
    "collapsed": true
   },
   "outputs": [],
   "source": [
    "another_image_file = \"./MyData/bsg02.fits\"\n",
    "\n",
    "another_image_data = fits.getdata(another_image_file)"
   ]
  },
  {
   "cell_type": "code",
   "execution_count": null,
   "metadata": {
    "collapsed": false
   },
   "outputs": [],
   "source": [
    "fig, ax = plt.subplots(1,2)\n",
    "fig.set_size_inches(12,6)\n",
    "\n",
    "fig.tight_layout()\n",
    "\n",
    "ax[0].imshow(image_data, cmap=plt.cm.gray)\n",
    "ax[1].imshow(another_image_data, cmap=plt.cm.gray);"
   ]
  },
  {
   "cell_type": "markdown",
   "metadata": {},
   "source": [
    "### The two images above may look the same but they are not! Subtracting the two images reveals the truth."
   ]
  },
  {
   "cell_type": "code",
   "execution_count": null,
   "metadata": {
    "collapsed": false
   },
   "outputs": [],
   "source": [
    "fig, ax = plt.subplots(1,3)\n",
    "fig.set_size_inches(12,6)\n",
    "\n",
    "fig.tight_layout()\n",
    "\n",
    "ax[0].imshow(image_data, cmap=plt.cm.gray)\n",
    "ax[1].imshow(another_image_data, cmap=plt.cm.gray);\n",
    "\n",
    "real_image = image_data - another_image_data                 # Subtract the images pixel by pixel\n",
    "\n",
    "ax[2].imshow(real_image, cmap=plt.cm.gray);"
   ]
  },
  {
   "cell_type": "markdown",
   "metadata": {},
   "source": [
    "## FITS Tables - An astronomical example\n",
    "\n",
    "* Stellar spectra data from the [ESO Library of Stellar Spectra](http://www.eso.org/sci/facilities/paranal/decommissioned/isaac/tools/lib.html)"
   ]
  },
  {
   "cell_type": "code",
   "execution_count": null,
   "metadata": {
    "collapsed": false
   },
   "outputs": [],
   "source": [
    "my_spectra_file = './MyData/Star_G5.fits'\n",
    "\n",
    "spectra_data = fits.getdata(my_spectra_file)\n",
    "spectra_header = fits.getheader(my_spectra_file)"
   ]
  },
  {
   "cell_type": "code",
   "execution_count": null,
   "metadata": {
    "collapsed": false
   },
   "outputs": [],
   "source": [
    "spectra_header"
   ]
  },
  {
   "cell_type": "code",
   "execution_count": null,
   "metadata": {
    "collapsed": false
   },
   "outputs": [],
   "source": [
    "# The FITS header has the information to make an array of wavelengths\n",
    "\n",
    "Start = spectra_header['CRVAL1']\n",
    "Number = spectra_header['NAXIS1']\n",
    "Delta  = spectra_header['CDELT1']\n",
    "\n",
    "End = Start + (Number * Delta)\n",
    "\n",
    "Wavelength = np.arange(Start,End,Delta)"
   ]
  },
  {
   "cell_type": "code",
   "execution_count": null,
   "metadata": {
    "collapsed": false
   },
   "outputs": [],
   "source": [
    "fig, ax = plt.subplots(2,1)\n",
    "fig.set_size_inches(11,8.5)\n",
    "\n",
    "fig.tight_layout()\n",
    "\n",
    "# Full spectra\n",
    "\n",
    "ax[0].plot(Wavelength, spectra_data, color='b')\n",
    "ax[0].set_ylabel(\"Flux\")\n",
    "ax[0].set_xlabel(\"Wavelength [angstroms]\")\n",
    "\n",
    "# Just the visible range with the hydrogen Balmer lines\n",
    "\n",
    "ax[1].set_xlim(4000,7000)\n",
    "ax[1].set_ylim(0.6,1.2)\n",
    "ax[1].plot(Wavelength, spectra_data, color='b')\n",
    "ax[1].set_ylabel(\"Flux\")\n",
    "ax[1].set_xlabel(\"Wavelength [angstroms]\")\n",
    "\n",
    "H_Balmer = [6563,4861,4341,4102,3970,3889,3835,3646]\n",
    "\n",
    "ax[1].vlines(H_Balmer,0,2, color='r', linewidth=3, alpha = 0.25)"
   ]
  },
  {
   "cell_type": "markdown",
   "metadata": {},
   "source": [
    "## Stellar spectral classes"
   ]
  },
  {
   "cell_type": "code",
   "execution_count": null,
   "metadata": {
    "collapsed": false
   },
   "outputs": [],
   "source": [
    "import glob\n",
    "\n",
    "star_list = glob.glob('./MyData/Star_*.fits')\n",
    "\n",
    "star_list"
   ]
  },
  {
   "cell_type": "code",
   "execution_count": null,
   "metadata": {
    "collapsed": false
   },
   "outputs": [],
   "source": [
    "fig, ax = plt.subplots(1,1)\n",
    "fig.set_size_inches(9,5)\n",
    "\n",
    "fig.tight_layout()\n",
    "\n",
    "# Full spectra\n",
    "\n",
    "ax.set_ylabel(\"Flux\")\n",
    "ax.set_xlabel(\"Wavelength [angstroms]\")\n",
    "ax.set_ylim(0.0, 1.05)\n",
    "\n",
    "for file in star_list:\n",
    "        \n",
    "    spectra = fits.getdata(file)\n",
    "    \n",
    "    spectra_normalized = spectra / spectra.max()\n",
    "    \n",
    "    ax.plot(Wavelength, spectra_normalized, label=file)\n",
    "\n",
    "ax.legend(loc=0,shadow=True);   "
   ]
  },
  {
   "cell_type": "markdown",
   "metadata": {},
   "source": [
    "## FITS Images - An astronomical example\n",
    "\n",
    "- World Coordinate System `wcs`"
   ]
  },
  {
   "cell_type": "code",
   "execution_count": null,
   "metadata": {
    "collapsed": true
   },
   "outputs": [],
   "source": [
    "from astropy.wcs import WCS\n",
    "\n",
    "from matplotlib.colors import LogNorm"
   ]
  },
  {
   "cell_type": "code",
   "execution_count": null,
   "metadata": {
    "collapsed": false
   },
   "outputs": [],
   "source": [
    "my_image_file = \"./MyData/m51.fits\"\n",
    "\n",
    "image_data = fits.getdata(my_image_file)\n",
    "image_header = fits.getheader(my_image_file)"
   ]
  },
  {
   "cell_type": "code",
   "execution_count": null,
   "metadata": {
    "collapsed": false
   },
   "outputs": [],
   "source": [
    "fig, ax = plt.subplots(1,3)\n",
    "\n",
    "fig.set_size_inches(12,4)\n",
    "\n",
    "fig.tight_layout()\n",
    "\n",
    "ax[0].set_title(\"Upside down!\")\n",
    "ax[1].set_title(\"Right side up!\")\n",
    "ax[2].set_title(\"LOG image intensity\")\n",
    "\n",
    "ax[0].imshow(image_data, cmap=plt.cm.gray)\n",
    "ax[1].imshow(image_data, origin='lower', cmap=plt.cm.gray)\n",
    "ax[2].imshow(image_data, origin='lower', cmap=plt.cm.gray, norm=LogNorm());"
   ]
  },
  {
   "cell_type": "code",
   "execution_count": null,
   "metadata": {
    "collapsed": false
   },
   "outputs": [],
   "source": [
    "image_header"
   ]
  },
  {
   "cell_type": "code",
   "execution_count": null,
   "metadata": {
    "collapsed": false
   },
   "outputs": [],
   "source": [
    "my_wcs = WCS(image_header)"
   ]
  },
  {
   "cell_type": "code",
   "execution_count": null,
   "metadata": {
    "collapsed": false
   },
   "outputs": [],
   "source": [
    "my_wcs"
   ]
  },
  {
   "cell_type": "code",
   "execution_count": null,
   "metadata": {
    "collapsed": false
   },
   "outputs": [],
   "source": [
    "fig = plt.figure()\n",
    "ax = fig.add_subplot(111, projection=my_wcs)\n",
    "\n",
    "fig.set_size_inches(6,6)\n",
    "\n",
    "fig.tight_layout()\n",
    "\n",
    "ax.grid(color='r', ls='--')\n",
    "ax.set_xlabel('Right Ascension (J2000)')\n",
    "ax.set_ylabel('Declination (J2000)')\n",
    "\n",
    "ax.imshow(image_data, origin='lower', cmap=plt.cm.gray);"
   ]
  },
  {
   "cell_type": "code",
   "execution_count": null,
   "metadata": {
    "collapsed": false
   },
   "outputs": [],
   "source": [
    "fig = plt.figure()\n",
    "ax = fig.add_subplot(111, projection=my_wcs)\n",
    "\n",
    "fig.set_size_inches(6,6)\n",
    "\n",
    "fig.tight_layout()\n",
    "\n",
    "ax.set_xlabel('Right Ascension (J2000)')\n",
    "ax.set_ylabel('Declination (J2000)')\n",
    "\n",
    "ax.grid(color='r', ls='--')\n",
    "\n",
    "overlay = ax.get_coords_overlay('galactic')\n",
    "\n",
    "overlay.grid(color='y', ls='dotted')\n",
    "\n",
    "overlay[0].set_axislabel('Galactic Longitude')\n",
    "overlay[1].set_axislabel('Galactic Latitude')\n",
    "\n",
    "ax.imshow(image_data, origin='lower', cmap=plt.cm.gray);"
   ]
  },
  {
   "cell_type": "markdown",
   "metadata": {},
   "source": [
    "# Pseudocolor - All color astronomy images are fake."
   ]
  },
  {
   "cell_type": "markdown",
   "metadata": {},
   "source": [
    "### Color images are composed of three 2-d images: <img src=\"images/Layers.png\" width=\"150\">"
   ]
  },
  {
   "cell_type": "markdown",
   "metadata": {},
   "source": [
    "### JPG images are 3-d, even grayscale images"
   ]
  },
  {
   "cell_type": "code",
   "execution_count": null,
   "metadata": {
    "collapsed": false
   },
   "outputs": [],
   "source": [
    "redfilter = plt.imread(\"./MyData/sphereR.jpg\")\n",
    "\n",
    "redfilter.shape,redfilter.dtype"
   ]
  },
  {
   "cell_type": "markdown",
   "metadata": {},
   "source": [
    "### We just want to read in one of the three channels"
   ]
  },
  {
   "cell_type": "code",
   "execution_count": null,
   "metadata": {
    "collapsed": false
   },
   "outputs": [],
   "source": [
    "redfilter = plt.imread(\"./MyData/sphereR.jpg\")[:,:,0]\n",
    "\n",
    "redfilter.shape,redfilter.dtype"
   ]
  },
  {
   "cell_type": "code",
   "execution_count": null,
   "metadata": {
    "collapsed": false
   },
   "outputs": [],
   "source": [
    "plt.imshow(redfilter,cmap=plt.cm.gray);"
   ]
  },
  {
   "cell_type": "code",
   "execution_count": null,
   "metadata": {
    "collapsed": false
   },
   "outputs": [],
   "source": [
    "greenfilter = plt.imread(\"./MyData/sphereG.jpg\")[:,:,0]\n",
    "bluefilter = plt.imread(\"./MyData/sphereB.jpg\")[:,:,0]"
   ]
  },
  {
   "cell_type": "code",
   "execution_count": null,
   "metadata": {
    "collapsed": false
   },
   "outputs": [],
   "source": [
    "fig, ax = plt.subplots(1,3)\n",
    "fig.set_size_inches(12,3)\n",
    "\n",
    "fig.tight_layout()\n",
    "\n",
    "ax[0].set_title(\"Red Filter\")\n",
    "ax[1].set_title(\"Green Filter\")\n",
    "ax[2].set_title(\"Blue Filter\")\n",
    "\n",
    "ax[0].imshow(redfilter,cmap=plt.cm.gray)\n",
    "ax[1].imshow(greenfilter,cmap=plt.cm.gray)\n",
    "ax[2].imshow(bluefilter,cmap=plt.cm.gray);"
   ]
  },
  {
   "cell_type": "markdown",
   "metadata": {},
   "source": [
    "### Need to create a blank 3-d array to hold all of the images"
   ]
  },
  {
   "cell_type": "code",
   "execution_count": null,
   "metadata": {
    "collapsed": false
   },
   "outputs": [],
   "source": [
    "rgb = np.zeros((480,640,3),dtype='uint8')\n",
    "\n",
    "print(rgb.shape, rgb.dtype)\n",
    "\n",
    "plt.imshow(rgb,cmap=plt.cm.gray);"
   ]
  },
  {
   "cell_type": "markdown",
   "metadata": {},
   "source": [
    "## Fill the array with the filtered images"
   ]
  },
  {
   "cell_type": "code",
   "execution_count": null,
   "metadata": {
    "collapsed": false
   },
   "outputs": [],
   "source": [
    "rgb[:,:,0] = redfilter\n",
    "rgb[:,:,1] = greenfilter\n",
    "rgb[:,:,2] = bluefilter"
   ]
  },
  {
   "cell_type": "code",
   "execution_count": null,
   "metadata": {
    "collapsed": false
   },
   "outputs": [],
   "source": [
    "fig, ax = plt.subplots(1,4)\n",
    "fig.set_size_inches(14,3)\n",
    "\n",
    "fig.tight_layout()\n",
    "\n",
    "ax[0].set_title(\"Red Filter\")\n",
    "ax[1].set_title(\"Green Filter\")\n",
    "ax[2].set_title(\"Blue Filter\")\n",
    "ax[3].set_title(\"All Filters Stacked\")\n",
    "\n",
    "ax[0].imshow(redfilter,cmap=plt.cm.gray)\n",
    "ax[1].imshow(greenfilter,cmap=plt.cm.gray)\n",
    "ax[2].imshow(bluefilter,cmap=plt.cm.gray)\n",
    "ax[3].imshow(rgb,cmap=plt.cm.gray);"
   ]
  },
  {
   "cell_type": "code",
   "execution_count": null,
   "metadata": {
    "collapsed": false
   },
   "outputs": [],
   "source": [
    "print(\"The image rgb has a shape [height,width] of {0}\".format(rgb.shape))\n",
    "print(\"The image rgb is made up of data of type {0}\".format(rgb.dtype))\n",
    "print(\"The image rgb has a maximum value of {0}\".format(rgb.max()))\n",
    "print(\"The image rgb has a minimum value of {0}\".format(rgb.min()))"
   ]
  },
  {
   "cell_type": "code",
   "execution_count": null,
   "metadata": {
    "collapsed": false
   },
   "outputs": [],
   "source": [
    "rgb[:,:,0] = redfilter * 1.5\n",
    "\n",
    "plt.imshow(rgb)"
   ]
  },
  {
   "cell_type": "code",
   "execution_count": null,
   "metadata": {
    "collapsed": true
   },
   "outputs": [],
   "source": []
  }
 ],
 "metadata": {
  "anaconda-cloud": {},
  "kernelspec": {
   "display_name": "Python [default]",
   "language": "python",
   "name": "python3"
  },
  "language_info": {
   "codemirror_mode": {
    "name": "ipython",
    "version": 3
   },
   "file_extension": ".py",
   "mimetype": "text/x-python",
   "name": "python",
   "nbconvert_exporter": "python",
   "pygments_lexer": "ipython3",
   "version": "3.4.5"
  }
 },
 "nbformat": 4,
 "nbformat_minor": 0
}
