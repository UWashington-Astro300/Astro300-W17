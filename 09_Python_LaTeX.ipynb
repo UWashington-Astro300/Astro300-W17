{
 "cells": [
  {
   "cell_type": "markdown",
   "metadata": {},
   "source": [
    "# Python, `SymPy`,  and $\\LaTeX$"
   ]
  },
  {
   "cell_type": "code",
   "execution_count": null,
   "metadata": {
    "collapsed": false
   },
   "outputs": [],
   "source": [
    "%matplotlib inline\n",
    "\n",
    "import sympy as sp\n",
    "import numpy as np\n",
    "import matplotlib.pyplot as plt"
   ]
  },
  {
   "cell_type": "markdown",
   "metadata": {},
   "source": [
    " # Symbolic Mathematics (`SymPy`)"
   ]
  },
  {
   "cell_type": "code",
   "execution_count": null,
   "metadata": {
    "collapsed": true
   },
   "outputs": [],
   "source": [
    "sp.init_printing()     # Turns on pretty printing"
   ]
  },
  {
   "cell_type": "code",
   "execution_count": null,
   "metadata": {
    "collapsed": false
   },
   "outputs": [],
   "source": [
    "np.sqrt(8)"
   ]
  },
  {
   "cell_type": "code",
   "execution_count": null,
   "metadata": {
    "collapsed": false
   },
   "outputs": [],
   "source": [
    "sp.sqrt(8)"
   ]
  },
  {
   "cell_type": "markdown",
   "metadata": {},
   "source": [
    "### You have to explicitly tell `SymPy` what symbols you want to use"
   ]
  },
  {
   "cell_type": "code",
   "execution_count": null,
   "metadata": {
    "collapsed": true
   },
   "outputs": [],
   "source": [
    "x, y, z = sp.symbols('x y z')"
   ]
  },
  {
   "cell_type": "code",
   "execution_count": null,
   "metadata": {
    "collapsed": false
   },
   "outputs": [],
   "source": [
    "my_equation = 2 * x + y\n",
    "my_equation"
   ]
  },
  {
   "cell_type": "code",
   "execution_count": null,
   "metadata": {
    "collapsed": false
   },
   "outputs": [],
   "source": [
    "my_equation + 3"
   ]
  },
  {
   "cell_type": "code",
   "execution_count": null,
   "metadata": {
    "collapsed": false
   },
   "outputs": [],
   "source": [
    "my_equation - x"
   ]
  },
  {
   "cell_type": "code",
   "execution_count": null,
   "metadata": {
    "collapsed": false
   },
   "outputs": [],
   "source": [
    "my_equation / x"
   ]
  },
  {
   "cell_type": "markdown",
   "metadata": {},
   "source": [
    "### `SymPy` has all sorts of ways to manipulates symbolic equations"
   ]
  },
  {
   "cell_type": "code",
   "execution_count": null,
   "metadata": {
    "collapsed": false
   },
   "outputs": [],
   "source": [
    "sp.simplify(my_equation / x)"
   ]
  },
  {
   "cell_type": "code",
   "execution_count": null,
   "metadata": {
    "collapsed": false
   },
   "outputs": [],
   "source": [
    "another_equation = (x + 2) * (x - 3)\n",
    "another_equation"
   ]
  },
  {
   "cell_type": "code",
   "execution_count": null,
   "metadata": {
    "collapsed": false
   },
   "outputs": [],
   "source": [
    "sp.expand(another_equation)"
   ]
  },
  {
   "cell_type": "code",
   "execution_count": null,
   "metadata": {
    "collapsed": false
   },
   "outputs": [],
   "source": [
    "yet_another_equation = 2 * x**2 + 5 * x + 3\n",
    "\n",
    "sp.factor(yet_another_equation)"
   ]
  },
  {
   "cell_type": "code",
   "execution_count": null,
   "metadata": {
    "collapsed": false
   },
   "outputs": [],
   "source": [
    "sp.solve(yet_another_equation,x)"
   ]
  },
  {
   "cell_type": "code",
   "execution_count": null,
   "metadata": {
    "collapsed": false
   },
   "outputs": [],
   "source": [
    "long_equation = 2*y*x**3 + 12*x**2 - x + 3 - 8*x**2 + 4*x + x**3 + 5 + 2*y*x**2 + x*y\n",
    "long_equation"
   ]
  },
  {
   "cell_type": "code",
   "execution_count": null,
   "metadata": {
    "collapsed": false
   },
   "outputs": [],
   "source": [
    "sp.collect(long_equation,x)"
   ]
  },
  {
   "cell_type": "code",
   "execution_count": null,
   "metadata": {
    "collapsed": false
   },
   "outputs": [],
   "source": [
    "sp.collect(long_equation,y)"
   ]
  },
  {
   "cell_type": "markdown",
   "metadata": {},
   "source": [
    "### `SymPy` can do your calculus homework."
   ]
  },
  {
   "cell_type": "code",
   "execution_count": null,
   "metadata": {
    "collapsed": false
   },
   "outputs": [],
   "source": [
    "yet_another_equation"
   ]
  },
  {
   "cell_type": "code",
   "execution_count": null,
   "metadata": {
    "collapsed": false
   },
   "outputs": [],
   "source": [
    "sp.diff(yet_another_equation,x)"
   ]
  },
  {
   "cell_type": "code",
   "execution_count": null,
   "metadata": {
    "collapsed": false
   },
   "outputs": [],
   "source": [
    "sp.diff(yet_another_equation,x,2)"
   ]
  },
  {
   "cell_type": "code",
   "execution_count": null,
   "metadata": {
    "collapsed": false
   },
   "outputs": [],
   "source": [
    "sp.integrate(yet_another_equation,x)"
   ]
  },
  {
   "cell_type": "code",
   "execution_count": null,
   "metadata": {
    "collapsed": false
   },
   "outputs": [],
   "source": [
    "sp.integrate(yet_another_equation,(x,0,5))   # limits x = 0 to 5"
   ]
  },
  {
   "cell_type": "markdown",
   "metadata": {},
   "source": [
    "### System of 3 equations example"
   ]
  },
  {
   "cell_type": "markdown",
   "metadata": {},
   "source": [
    "$$\n",
    "\\begin{array}{c}\n",
    "x + 3y + 5z = 10 \\\\\n",
    "2x + 5y + z = 8 \\\\\n",
    "2x + 3y + 8z = 3 \\\\\n",
    "\\end{array}\n",
    "\\hspace{3cm}\n",
    "\\left[\n",
    "\\begin{array}{ccc}\n",
    "1 & 3 & 5 \\\\\n",
    "2 & 5 & 1 \\\\\n",
    "2 & 3 & 8 \n",
    "\\end{array}\n",
    "\\right]\n",
    "\\left[\n",
    "\\begin{array}{c}\n",
    "x\\\\\n",
    "y\\\\\n",
    "z \n",
    "\\end{array}\n",
    "\\right]\n",
    "=\n",
    "\\left[\n",
    "\\begin{array}{c}\n",
    "10\\\\\n",
    "8\\\\\n",
    "3 \n",
    "\\end{array}\n",
    "\\right]\n",
    "$$"
   ]
  },
  {
   "cell_type": "code",
   "execution_count": null,
   "metadata": {
    "collapsed": false
   },
   "outputs": [],
   "source": [
    "AA = sp.Matrix([[1,3,5],[2,5,1],[2,3,8]])\n",
    "bb = sp.Matrix([[10],[8],[3]])\n",
    "\n",
    "print(AA**-1)\n",
    "\n",
    "print(AA**-1 * bb)"
   ]
  },
  {
   "cell_type": "markdown",
   "metadata": {},
   "source": [
    "### `SymPy` can do *so* much more. It really is magic. Complete documentation can be found [here](http://docs.sympy.org/latest/index.html)"
   ]
  },
  {
   "cell_type": "markdown",
   "metadata": {},
   "source": [
    "---\n",
    "\n",
    "## Python uses the $\\LaTeX$ language to typeset equations."
   ]
  },
  {
   "cell_type": "raw",
   "metadata": {},
   "source": [
    "Most LaTeX commands are prefixed with a \"\\\". For example \\pi is the\n",
    "command to produce the lower case Greek letter pi.\n",
    "\n",
    "The characters  # $ % & ~ _ ^ \\ { } are special characters in LaTeX. If\n",
    "you want to typeset them you need to put a \\ in front of them. For\n",
    "example \\$ will typeset the symbol $\n",
    "\n",
    "% - comment. Everything is ignored after a %\n",
    "$ - Math mode. Start and Stop math mode. $\\pi$\n",
    "^ - Superscript in Math mode. $2^2$\n",
    "_ - Subscript in Math mode. $2_2$"
   ]
  },
  {
   "cell_type": "markdown",
   "metadata": {},
   "source": [
    "### Use a single set of `$` to make your $\\LaTeX$ inline and a double set `$$` to center"
   ]
  },
  {
   "cell_type": "raw",
   "metadata": {},
   "source": [
    "$$ \\int \\cos(x)\\ dx = \\sin(x) $$"
   ]
  },
  {
   "cell_type": "markdown",
   "metadata": {},
   "source": [
    "### This code will produce the output:"
   ]
  },
  {
   "cell_type": "markdown",
   "metadata": {},
   "source": [
    "### $$ \\int \\cos(x)\\ dx = \\sin(x) $$"
   ]
  },
  {
   "cell_type": "markdown",
   "metadata": {},
   "source": [
    "## Use can use $\\LaTeX$ in plots:"
   ]
  },
  {
   "cell_type": "code",
   "execution_count": null,
   "metadata": {
    "collapsed": false
   },
   "outputs": [],
   "source": [
    "plt.style.use('ggplot')\n",
    "\n",
    "x = np.linspace(0,2*np.pi,100)\n",
    "y = np.sin(5*x) * np.exp(-x)\n",
    "\n",
    "plt.plot(x,y)\n",
    "plt.title(\"The function $y\\ =\\ \\sin(5x)\\ e^{-x}$\")\n",
    "plt.xlabel(\"This is in units of 2$\\pi$\")\n",
    "\n",
    "plt.text(2.0, 0.4, '$\\Delta t = \\gamma\\, \\Delta t$', color='green', fontsize=36)"
   ]
  },
  {
   "cell_type": "markdown",
   "metadata": {},
   "source": [
    "## Use can use `SymPy` to make $\\LaTeX$ equations for you!"
   ]
  },
  {
   "cell_type": "code",
   "execution_count": null,
   "metadata": {
    "collapsed": false
   },
   "outputs": [],
   "source": [
    "a =  1/( ( z + 2 ) * ( z + 1 ) )\n",
    "\n",
    "print(sp.latex(a))"
   ]
  },
  {
   "cell_type": "markdown",
   "metadata": {},
   "source": [
    "$$ \\frac{1}{\\left(z + 1\\right) \\left(z + 2\\right)} $$"
   ]
  },
  {
   "cell_type": "code",
   "execution_count": null,
   "metadata": {
    "collapsed": false
   },
   "outputs": [],
   "source": [
    "print(sp.latex(sp.Integral(z**2,z)))"
   ]
  },
  {
   "cell_type": "markdown",
   "metadata": {},
   "source": [
    "$$ \\int z^{2}\\, dz $$"
   ]
  },
  {
   "cell_type": "markdown",
   "metadata": {},
   "source": [
    "## `Astropy` can output $\\LaTeX$ tables"
   ]
  },
  {
   "cell_type": "code",
   "execution_count": null,
   "metadata": {
    "collapsed": true
   },
   "outputs": [],
   "source": [
    "from astropy.io import ascii\n",
    "from astropy.table import QTable"
   ]
  },
  {
   "cell_type": "code",
   "execution_count": null,
   "metadata": {
    "collapsed": true
   },
   "outputs": [],
   "source": [
    "my_table = QTable.read('Zodiac.csv', format='ascii.csv')"
   ]
  },
  {
   "cell_type": "code",
   "execution_count": null,
   "metadata": {
    "collapsed": false
   },
   "outputs": [],
   "source": [
    "my_table[0:3]"
   ]
  },
  {
   "cell_type": "code",
   "execution_count": null,
   "metadata": {
    "collapsed": false
   },
   "outputs": [],
   "source": [
    "ascii.write(my_table, format='latex')"
   ]
  },
  {
   "cell_type": "markdown",
   "metadata": {},
   "source": [
    "---\n",
    "\n",
    "## Some websites to open up for class:"
   ]
  },
  {
   "cell_type": "markdown",
   "metadata": {},
   "source": [
    "- ## [Special Relativity](https://en.wikipedia.org/wiki/Special_relativity)\n",
    "\n",
    "---\n",
    "\n",
    "- ## [ShareLatex](https://www.sharelatex.com/)\n",
    "\n",
    "- ## [ShareLatex Docs and Help](https://www.sharelatex.com/learn)\n",
    "\n",
    "- ## [Latex Symbols](https://en.wikipedia.org/wiki/Wikipedia:LaTeX_symbols)\n",
    "\n",
    "- ## [Latex draw symbols](http://detexify.kirelabs.org/classify.html)\n",
    "\n",
    "- ## [The SAO/NASA Astrophysics Data System](https://ui.adsabs.harvard.edu/#classic-form)\n",
    "\n",
    "---\n",
    "\n",
    "- ## [Latex wikibook](https://en.wikibooks.org/wiki/LaTeX)"
   ]
  },
  {
   "cell_type": "markdown",
   "metadata": {},
   "source": [
    "---\n",
    "\n",
    "# Assignment for Week 9"
   ]
  },
  {
   "cell_type": "raw",
   "metadata": {
    "collapsed": true
   },
   "source": [
    "-----------------------------------------------------------------------------\n",
    "LaTeX homework - Create a LaTeX document with references.\n",
    "-----------------------------------------------------------------------------\n",
    "\n",
    "Start with the file: Example.tex\n",
    "\n",
    "Minimum required elements:\n",
    "\n",
    "* Between 2 and 4 pages in length (pages > 4 will be ignored).\n",
    "\n",
    "* At least two paragraphs of text (the text should be coherent).\n",
    "\n",
    "* At least 5 references from ADS                        \n",
    "\n",
    "  * http://adsabs.harvard.edu/abstract_service.html\n",
    "  * Make sure to \\cite{} the references in your paper\n",
    "\n",
    "* The equation on the back of the handout                                         \n",
    "\n",
    "* One (or more) equation(s) of your choice.                 \n",
    "\n",
    "* One Compulsory plot generated with python (png format)    \n",
    "\n",
    "  * Start with t = np.linspace(0,12*np.pi,2000)\n",
    "  * generate a butterfly plot: http://en.wikipedia.org/wiki/Butterfly_curve_(transcendental)\n",
    "  * I have started it for you im the last cell of this notebook\n",
    "\n",
    "* One other plot/image (do not reuse and old one!)               \n",
    "\n",
    "* One table of at least 4 columns and 4 rows.\n",
    "\n",
    "* Bonus points given for interesting content!\n",
    "\n",
    "-----------------------------------------------------------------------------\n",
    "\n",
    "Create a PDF file:\n",
    "\n",
    "Save the file as FirstLast.pdf  (i.e. TobySmith.pdf)\n",
    "\n",
    "Upload the PDF to the class canvas site\n",
    "\n",
    "-----------------------------------------------------------------------------\n",
    "Deadline: Tuesday Mar 07 - 5pm (-5 pts for each 30 minutes late)\n",
    "-----------------------------------------------------------------------------"
   ]
  },
  {
   "cell_type": "code",
   "execution_count": null,
   "metadata": {
    "collapsed": false
   },
   "outputs": [],
   "source": [
    "t = np.linspace(0,12*np.pi,2000)\n",
    "\n",
    "fig,ax = plt.subplots(1,1)                    # One window\n",
    "fig.set_size_inches(11,8.5)                   # (width,height) - letter paper landscape\n",
    "\n",
    "fig.tight_layout()                            # Make better use of space on plot\n",
    "\n"
   ]
  }
 ],
 "metadata": {
  "anaconda-cloud": {},
  "kernelspec": {
   "display_name": "Python [default]",
   "language": "python",
   "name": "python3"
  },
  "language_info": {
   "codemirror_mode": {
    "name": "ipython",
    "version": 3
   },
   "file_extension": ".py",
   "mimetype": "text/x-python",
   "name": "python",
   "nbconvert_exporter": "python",
   "pygments_lexer": "ipython3",
   "version": "3.4.5"
  }
 },
 "nbformat": 4,
 "nbformat_minor": 0
}
